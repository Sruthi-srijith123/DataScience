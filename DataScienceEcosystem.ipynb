{
 "cells": [
  {
   "cell_type": "markdown",
   "id": "8bedb6b7-6705-4385-855a-1225cf343929",
   "metadata": {
    "tags": []
   },
   "source": [
    "# DataScience Tools and Ecosystem #"
   ]
  },
  {
   "cell_type": "markdown",
   "id": "fd90c137-7535-4d77-810c-80ccf9ab42e3",
   "metadata": {},
   "source": [
    "In this notebook, Data Science Tools and Ecosystem are summarized."
   ]
  },
  {
   "cell_type": "markdown",
   "id": "289751ee-4f56-4fb5-bb3c-341cb6742cad",
   "metadata": {},
   "source": [
    "**Objectives:**\n",
    "* Languages of DataScience\n",
    "* Libraries\n",
    "* Tools used in DataScience\n",
    "* Formatting\n",
    "* Arithmetic expressions\n",
    "* Evaluating Arithmetic expressions\n"
   ]
  },
  {
   "cell_type": "markdown",
   "id": "8fd1bc28-2d51-4f4f-8a5d-6adc19c11665",
   "metadata": {},
   "source": [
    "Some of the popular languages that Data Scientists use are:\n",
    " 1. Python\n",
    " 2. R\n",
    " 3. SQL\n",
    " 4. Julia"
   ]
  },
  {
   "cell_type": "markdown",
   "id": "a78db83d-c84a-4830-a9a4-d5610a0b77f4",
   "metadata": {},
   "source": [
    "Some of the commonly used libraries used by Data Scientists include:\n",
    "1. Pandas\n",
    "2. NumPy\n",
    "3. Matplotlib\n",
    "4. Seaborn\n",
    "5. Scikit-learn"
   ]
  },
  {
   "cell_type": "markdown",
   "id": "70f5d2f6-b077-4e3b-ad85-cd81d3d1459e",
   "metadata": {},
   "source": [
    "|DataScience Tools|\n",
    "|-----------------|\n",
    "|Jupyter Notebooks|\n",
    "|Rstudio          |\n",
    "|Python           |\n",
    "|GitHub           |\n"
   ]
  },
  {
   "cell_type": "markdown",
   "id": "e31b8b79-9b3b-4208-8eb8-41f34322e077",
   "metadata": {},
   "source": [
    "### Below are a few examples of evaluating arithmetic expressions in Python ###"
   ]
  },
  {
   "cell_type": "code",
   "execution_count": 1,
   "id": "2f165975-dcdf-4aa1-8d89-7f9174de0279",
   "metadata": {
    "tags": []
   },
   "outputs": [
    {
     "data": {
      "text/plain": [
       "17"
      ]
     },
     "execution_count": 1,
     "metadata": {},
     "output_type": "execute_result"
    }
   ],
   "source": [
    "#  This a simple arithmetic expression to mutiply then add integers\n",
    "(3*4)+5"
   ]
  },
  {
   "cell_type": "code",
   "execution_count": 11,
   "id": "11c5bd00-16c3-47a7-a5d6-30392f65e981",
   "metadata": {
    "tags": []
   },
   "outputs": [
    {
     "name": "stdout",
     "output_type": "stream",
     "text": [
      "NO of hours in 200 minutes is3.3333333333333335\n"
     ]
    }
   ],
   "source": [
    "#This will convert 200 minutes to hours by diving by 60 \n",
    "minutes= 200\n",
    "hours=minutes/60\n",
    "print(\"NO of hours in 200 minutes is\"+str(hours))"
   ]
  },
  {
   "cell_type": "markdown",
   "id": "9cb52952-e391-46be-9a81-034a1970cfe9",
   "metadata": {
    "tags": []
   },
   "source": [
    "## Author\n",
    "Sruthi Surendran"
   ]
  },
  {
   "cell_type": "code",
   "execution_count": null,
   "id": "22a23318-f1f0-46cb-96fa-69383476f906",
   "metadata": {},
   "outputs": [],
   "source": []
  }
 ],
 "metadata": {
  "kernelspec": {
   "display_name": "Python",
   "language": "python",
   "name": "conda-env-python-py"
  },
  "language_info": {
   "codemirror_mode": {
    "name": "ipython",
    "version": 3
   },
   "file_extension": ".py",
   "mimetype": "text/x-python",
   "name": "python",
   "nbconvert_exporter": "python",
   "pygments_lexer": "ipython3",
   "version": "3.7.12"
  }
 },
 "nbformat": 4,
 "nbformat_minor": 5
}
